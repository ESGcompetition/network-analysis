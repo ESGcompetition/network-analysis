{
 "cells": [
  {
   "cell_type": "code",
   "execution_count": 2,
   "metadata": {},
   "outputs": [],
   "source": [
    "import OpenDartReader\n",
    "import pandas as pd\n",
    "\n",
    "api_key = '7f942045d438f45c28bc2707063b8838be98f7e6'\n",
    "\n",
    "dart = OpenDartReader(api_key)"
   ]
  },
  {
   "cell_type": "code",
   "execution_count": 6,
   "metadata": {},
   "outputs": [],
   "source": [
    "corp_name_list = ['다올투자증권','다우데이타','SK증권','메리츠금융지주','NH투자증권','한국금융지주','다우기술','대신증권','유안타증권','삼성증권','유진증권','한양증권','현대차증권','이베스트투자증권','교보증권','DB금융투자','유화증권','부국증권','신영증권','코리아에셋투자증권','상상인증권','키움증권']\n",
    "corp_code_list = []"
   ]
  },
  {
   "cell_type": "code",
   "execution_count": 7,
   "metadata": {},
   "outputs": [
    {
     "name": "stdout",
     "output_type": "stream",
     "text": [
      "다올투자증권\n",
      "다올투자증권\n",
      "다올투자증권\n",
      "다우데이타\n",
      "다우데이타\n",
      "다우데이타\n",
      "SK증권\n",
      "SK증권\n",
      "SK증권\n",
      "메리츠금융지주\n",
      "메리츠금융지주\n",
      "메리츠금융지주\n",
      "NH투자증권\n",
      "NH투자증권\n",
      "NH투자증권\n",
      "한국금융지주\n",
      "한국금융지주\n",
      "한국금융지주\n",
      "다우기술\n",
      "다우기술\n",
      "다우기술\n",
      "대신증권\n",
      "대신증권\n",
      "대신증권\n",
      "유안타증권\n",
      "유안타증권\n",
      "유안타증권\n",
      "삼성증권\n",
      "삼성증권\n",
      "삼성증권\n",
      "유진증권\n",
      "유진증권\n",
      "유진증권\n",
      "한양증권\n",
      "한양증권\n",
      "한양증권\n",
      "현대차증권\n",
      "현대차증권\n",
      "현대차증권\n",
      "이베스트투자증권\n",
      "이베스트투자증권\n",
      "이베스트투자증권\n",
      "교보증권\n",
      "교보증권\n",
      "교보증권\n",
      "DB금융투자\n",
      "DB금융투자\n",
      "DB금융투자\n",
      "유화증권\n",
      "유화증권\n",
      "유화증권\n",
      "부국증권\n",
      "부국증권\n",
      "부국증권\n",
      "신영증권\n",
      "신영증권\n",
      "신영증권\n",
      "코리아에셋투자증권\n",
      "코리아에셋투자증권\n",
      "코리아에셋투자증권\n",
      "상상인증권\n",
      "상상인증권\n",
      "상상인증권\n",
      "키움증권\n",
      "키움증권\n",
      "키움증권\n"
     ]
    }
   ],
   "source": [
    "for i in corp_name_list:\n",
    "    for k in [2020,2021,2022]:\n",
    "        corp_code_list.append(dart.find_corp_code(i))\n",
    "        df = dart.report(i,'임원',k)\n",
    "        df = dart.report(i,'최대주주',k)\n",
    "        print(i)"
   ]
  }
 ],
 "metadata": {
  "kernelspec": {
   "display_name": "study",
   "language": "python",
   "name": "python3"
  },
  "language_info": {
   "codemirror_mode": {
    "name": "ipython",
    "version": 3
   },
   "file_extension": ".py",
   "mimetype": "text/x-python",
   "name": "python",
   "nbconvert_exporter": "python",
   "pygments_lexer": "ipython3",
   "version": "3.8.15"
  },
  "orig_nbformat": 4
 },
 "nbformat": 4,
 "nbformat_minor": 2
}
