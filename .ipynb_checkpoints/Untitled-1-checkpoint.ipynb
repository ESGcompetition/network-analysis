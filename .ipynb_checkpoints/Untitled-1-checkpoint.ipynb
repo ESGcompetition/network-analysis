{
 "cells": [
  {
   "cell_type": "code",
   "execution_count": 1,
   "metadata": {},
   "outputs": [],
   "source": [
    "import OpenDartReader\n",
    "import pandas as pd"
   ]
  },
  {
   "cell_type": "code",
   "execution_count": 1,
   "metadata": {},
   "outputs": [
    {
     "name": "stdout",
     "output_type": "stream",
     "text": [
      "Collecting opendartreader\n",
      "  Using cached OpenDartReader-0.2.3-py3-none-any.whl (27 kB)\n",
      "Requirement already satisfied: beautifulsoup4 in /opt/anaconda3/lib/python3.9/site-packages (from opendartreader) (4.11.1)\n",
      "Requirement already satisfied: lxml in /opt/anaconda3/lib/python3.9/site-packages (from opendartreader) (4.8.0)\n",
      "Requirement already satisfied: pandas>=0.19.2 in /opt/anaconda3/lib/python3.9/site-packages (from opendartreader) (1.4.2)\n",
      "Requirement already satisfied: requests-file in /opt/anaconda3/lib/python3.9/site-packages (from opendartreader) (1.5.1)\n",
      "Requirement already satisfied: requests>=2.3.0 in /opt/anaconda3/lib/python3.9/site-packages (from opendartreader) (2.27.1)\n",
      "Requirement already satisfied: python-dateutil>=2.8.1 in /opt/anaconda3/lib/python3.9/site-packages (from pandas>=0.19.2->opendartreader) (2.8.2)\n",
      "Requirement already satisfied: pytz>=2020.1 in /opt/anaconda3/lib/python3.9/site-packages (from pandas>=0.19.2->opendartreader) (2021.3)\n",
      "Requirement already satisfied: numpy>=1.18.5 in /opt/anaconda3/lib/python3.9/site-packages (from pandas>=0.19.2->opendartreader) (1.21.5)\n",
      "Requirement already satisfied: charset-normalizer~=2.0.0 in /opt/anaconda3/lib/python3.9/site-packages (from requests>=2.3.0->opendartreader) (2.0.4)\n",
      "Requirement already satisfied: certifi>=2017.4.17 in /opt/anaconda3/lib/python3.9/site-packages (from requests>=2.3.0->opendartreader) (2021.10.8)\n",
      "Requirement already satisfied: urllib3<1.27,>=1.21.1 in /opt/anaconda3/lib/python3.9/site-packages (from requests>=2.3.0->opendartreader) (1.26.9)\n",
      "Requirement already satisfied: idna<4,>=2.5 in /opt/anaconda3/lib/python3.9/site-packages (from requests>=2.3.0->opendartreader) (3.3)\n",
      "Requirement already satisfied: soupsieve>1.2 in /opt/anaconda3/lib/python3.9/site-packages (from beautifulsoup4->opendartreader) (2.3.1)\n",
      "Requirement already satisfied: six in /opt/anaconda3/lib/python3.9/site-packages (from requests-file->opendartreader) (1.16.0)\n",
      "Installing collected packages: opendartreader\n",
      "Successfully installed opendartreader-0.2.3\n",
      "\n",
      "\u001b[1m[\u001b[0m\u001b[34;49mnotice\u001b[0m\u001b[1;39;49m]\u001b[0m\u001b[39;49m A new release of pip available: \u001b[0m\u001b[31;49m22.3.1\u001b[0m\u001b[39;49m -> \u001b[0m\u001b[32;49m23.1.2\u001b[0m\n",
      "\u001b[1m[\u001b[0m\u001b[34;49mnotice\u001b[0m\u001b[1;39;49m]\u001b[0m\u001b[39;49m To update, run: \u001b[0m\u001b[32;49mpip install --upgrade pip\u001b[0m\n",
      "Note: you may need to restart the kernel to use updated packages.\n"
     ]
    }
   ],
   "source": [
    "pip install opendartreader"
   ]
  },
  {
   "cell_type": "code",
   "execution_count": 2,
   "metadata": {},
   "outputs": [],
   "source": [
    "api_key = 'd0d913cb52aceb226c589884da8be4006d93381c'"
   ]
  },
  {
   "cell_type": "code",
   "execution_count": 4,
   "metadata": {},
   "outputs": [],
   "source": [
    "dart = OpenDartReader(api_key)"
   ]
  },
  {
   "cell_type": "markdown",
   "metadata": {},
   "source": [
    "\n",
    "dart = OpenDartReader(api_key)"
   ]
  },
  {
   "cell_type": "code",
   "execution_count": 1,
   "metadata": {},
   "outputs": [],
   "source": [
    "corp_name_list = ['다올투자증권','다우데이타','SK증권','메리츠금융지주','NH투자증권','한국금융지주','다우기술','대신증권','유안타증권','삼성증권','유진증권','한양증권','현대차증권','이베스트투자증권','교보증권','DB금융투자','유화증권','부국증권','신영증권','코리아에셋투자증권','상상인증권','키움증권']\n",
    "corp_code_list = []"
   ]
  },
  {
   "cell_type": "code",
   "execution_count": 2,
   "metadata": {},
   "outputs": [
    {
     "ename": "NameError",
     "evalue": "name 'dart' is not defined",
     "output_type": "error",
     "traceback": [
      "\u001b[0;31m---------------------------------------------------------------------------\u001b[0m",
      "\u001b[0;31mNameError\u001b[0m                                 Traceback (most recent call last)",
      "Cell \u001b[0;32mIn[2], line 3\u001b[0m\n\u001b[1;32m      1\u001b[0m \u001b[39mfor\u001b[39;00m i \u001b[39min\u001b[39;00m corp_name_list:\n\u001b[1;32m      2\u001b[0m     \u001b[39mfor\u001b[39;00m k \u001b[39min\u001b[39;00m [\u001b[39m2020\u001b[39m,\u001b[39m2021\u001b[39m,\u001b[39m2022\u001b[39m]:\n\u001b[0;32m----> 3\u001b[0m         corp_code_list\u001b[39m.\u001b[39mappend(dart\u001b[39m.\u001b[39mfind_corp_code(i))\n\u001b[1;32m      4\u001b[0m         df \u001b[39m=\u001b[39m dart\u001b[39m.\u001b[39mreport(i,\u001b[39m'\u001b[39m\u001b[39m임원\u001b[39m\u001b[39m'\u001b[39m,k)\n\u001b[1;32m      5\u001b[0m         df \u001b[39m=\u001b[39m dart\u001b[39m.\u001b[39mreport(i,\u001b[39m'\u001b[39m\u001b[39m최대주주\u001b[39m\u001b[39m'\u001b[39m,k)\n",
      "\u001b[0;31mNameError\u001b[0m: name 'dart' is not defined"
     ]
    }
   ],
   "source": [
    "for i in corp_name_list:\n",
    "    for k in [2020,2021,2022]:\n",
    "        corp_code_list.append(dart.find_corp_code(i))\n",
    "        df = dart.report(i,'임원',k)\n",
    "        df = dart.report(i,'최대주주',k)\n",
    "        print(i)"
   ]
  },
  {
   "cell_type": "code",
   "execution_count": null,
   "metadata": {},
   "outputs": [],
   "source": []
  }
 ],
 "metadata": {
  "kernelspec": {
   "display_name": "Python 3 (ipykernel)",
   "language": "python",
   "name": "python3"
  },
  "language_info": {
   "codemirror_mode": {
    "name": "ipython",
    "version": 3
   },
   "file_extension": ".py",
   "mimetype": "text/x-python",
   "name": "python",
   "nbconvert_exporter": "python",
   "pygments_lexer": "ipython3",
   "version": "3.9.12"
  }
 },
 "nbformat": 4,
 "nbformat_minor": 2
}
