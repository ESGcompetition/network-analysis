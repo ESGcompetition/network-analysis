{
 "cells": [
  {
   "cell_type": "code",
   "execution_count": null,
   "metadata": {},
   "outputs": [],
   "source": [
    "import networkx as nx\n",
    "import pandas as pd\n",
    "from scipy import stats"
   ]
  },
  {
   "cell_type": "code",
   "execution_count": null,
   "metadata": {},
   "outputs": [],
   "source": [
    "def calculate_career(row):\n",
    "    start_date, end_date = row['재직기간'].split('~')\n",
    "    start_year, start_month, _ = start_date.split('.')\n",
    "    end_year, end_month, _ = end_date.split('.')\n",
    "    \n",
    "    career = (int(end_year) - int(start_year)) * 12 + (int(end_month) - int(start_month))\n",
    "    return career\n",
    "\n",
    "# 경력 계산 적용\n",
    "df['career'] = df.apply(calculate_career, axis=1)"
   ]
  },
  {
   "cell_type": "code",
   "execution_count": null,
   "metadata": {},
   "outputs": [],
   "source": [
    "def influence(G, df):\n",
    "    #영향력 평가지표 추출\n",
    "    degree_centrality = nx.degree_centrality(G)\n",
    "    eigenvector_centrality = nx.eigenvector_centrality(G,weight='weight')\n",
    "    pagerank = nx.pagerank(G, alpha=0.9, weight='weight')\n",
    "    betweenness_centrality = nx.betweenness_centrality(G, weight='weight')\n",
    "    closeness_centrality = nx.closeness_centrality(G)\n",
    "    dicts = [degree_centrality, eigenvector_centrality, pagerank, betweenness_centrality, closeness_centrality]\n",
    "    merged_dict = {}\n",
    "    stats.zscore(dicts) #zscore 정규화 (되나?)\n",
    "\n",
    "    df['career'] = df['career'].apply(stats.zscore) #dataframe정규화\n",
    "    df['의결권 있는 주식수'] = df['의결권 있는 주식수'].apply(stats.zscore)\n",
    "\n",
    "    #딕셔너리값 합치기(영향력 평가지표 더하기)\n",
    "    for dict in dicts:\n",
    "        for key, value in dict.items():\n",
    "            if key in merged_dict:\n",
    "                merged_dict[key] += value\n",
    "            else:\n",
    "                merged_dict[key] = value\n",
    "    \n",
    "    #경력 더해주기\n",
    "    for key, value in merged_dict.items():\n",
    "        merged_dict[key] += df.loc[merged_dict[key],'career']\n",
    "    \n",
    "    #의결권있는 주식수 더해주기\n",
    "    for key, value in merged_dict.items():\n",
    "        merged_dict[key] += df.loc[merged_dict[key],'의결권 있는 주식수']\n",
    "    \n",
    "    return merged_dict"
   ]
  },
  {
   "cell_type": "code",
   "execution_count": null,
   "metadata": {},
   "outputs": [],
   "source": [
    "#특정 인물과 가까운 인물들 rank\n",
    "def find_closest(G, name, rank=10):  \n",
    "    neighbors_list = list(G.neighbors(f\"{name}\"))\n",
    "    \n",
    "    temp_dict = {}\n",
    "    for n in neighbors_list:\n",
    "        weight = G.edges[f\"{name}\", n]['weight']\n",
    "        temp_dict[n] = weight\n",
    "    \n",
    "    sorted_list = sorted(temp_dict.items(), key=(lambda x:x[1]), reverse=True)\n",
    "    for n, w in sorted_list[0:rank]:  \n",
    "        print(f'{n}:  {w}')"
   ]
  },
  {
   "cell_type": "code",
   "execution_count": null,
   "metadata": {},
   "outputs": [],
   "source": [
    "#인물 중요도 변화\n",
    "\n",
    "years_G = [G2014, G2015, G2016, G2017, G2018, G2019, G2020, G2021, G2022, G2023] #연도별 network들\n",
    "G_years = []\n",
    "\n",
    "#만든 network사용- 연도별로 묶기\n",
    "for year_G in years_G:\n",
    "    G_years.append(year_G)\n",
    "\n",
    "\n",
    "evol = [influence(G) for G in G_years]\n",
    " \n",
    "\n",
    "index = ['2014', '2015', '2016', '2017', '2018', '2019', '2020', '2021', '2022', '2023']\n",
    "degree_evol_df = pd.DataFrame.from_records(evol, index=index).fillna(0) # 모든 연도에 모든 인물이 있는 게 아니므로, N/A는 0으로 채워줌\n",
    "\n",
    "# 각 연도의 중요도 top 5 인물 선택\n",
    "set_of_char = set()\n",
    "for i in index:  \n",
    "    set_of_char |= set(list(degree_evol_df.T[i].sort_values(ascending=False)[0:5].index)) \n",
    "            # |=는 왼쪽과 오른쪽의 합집합을 왼쪽에 assign해주는 역할\n",
    "list_of_char = list(set_of_char)\n",
    "\n",
    "\n",
    "degree_evol_df[list_of_char].plot(figsize=(13, 7));"
   ]
  }
 ],
 "metadata": {
  "kernelspec": {
   "display_name": "py39_ml",
   "language": "python",
   "name": "python3"
  },
  "language_info": {
   "codemirror_mode": {
    "name": "ipython",
    "version": 3
   },
   "file_extension": ".py",
   "mimetype": "text/x-python",
   "name": "python",
   "nbconvert_exporter": "python",
   "pygments_lexer": "ipython3",
   "version": "3.9.0"
  },
  "orig_nbformat": 4
 },
 "nbformat": 4,
 "nbformat_minor": 2
}
