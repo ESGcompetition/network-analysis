{
 "cells": [
  {
   "cell_type": "code",
   "execution_count": 1,
   "metadata": {},
   "outputs": [],
   "source": [
    "import pandas as pd\n",
    "import re\n",
    "     "
   ]
  },
  {
   "cell_type": "code",
   "execution_count": 2,
   "metadata": {},
   "outputs": [],
   "source": [
    "import OpenDartReader\n",
    "\n",
    "### 0. 객체 생성 ###\n",
    "# 객체 생성 (API KEY 지정) \n",
    "api_key = 'ebd213d75beaeac7659874cda6ec4ec28394fdc3'\n",
    "\n",
    "dart = OpenDartReader(api_key) \n",
    "     "
   ]
  },
  {
   "cell_type": "code",
   "execution_count": 3,
   "metadata": {},
   "outputs": [],
   "source": [
    "corp_name_list = ['다올투자증권','다우데이타','SK증권','메리츠금융지주','NH투자증권','한국금융지주','다우기술','대신증권','유안타증권','삼성증권','유진증권','한양증권','현대차증권','이베스트투자증권','교보증권','DB금융투자','유화증권','부국증권','신영증권','코리아에셋투자증권','상상인증권','키움증권']\n",
    "corp_code_list = []"
   ]
  },
  {
   "cell_type": "code",
   "execution_count": 4,
   "metadata": {},
   "outputs": [],
   "source": [
    "df = pd.DataFrame()\n",
    "\n",
    "for i in corp_name_list:\n",
    "    for k in [2020,2021,2022]:\n",
    "        corp_code_list.append(dart.find_corp_code(i))\n",
    "        temp = dart.report(i,'임원',k)\n",
    "        temp['year'] = k\n",
    "        df = pd.concat([df,temp])\n",
    "\n",
    "df.columns = ['접수번호', '법인구분', '고유번호', '법인명', '이름', '성별', '생년월일', '직위', '등기임원여부', '상근여부', '담당업무', '주요경력', '최대주주와의관계', '재직기간', '임기만료일', '보고서연도']\n",
    "df.to_csv(\"./df_executive.csv\", index = False)"
   ]
  },
  {
   "cell_type": "code",
   "execution_count": 5,
   "metadata": {},
   "outputs": [],
   "source": [
    "df = pd.DataFrame()\n",
    "\n",
    "for i in corp_name_list:\n",
    "    for k in [2020,2021,2022]:\n",
    "        temp = dart.report(i,'최대주주',k)\n",
    "        temp['year'] = k\n",
    "        df = pd.concat([df,temp])\n",
    "\n",
    "df.columns = ['접수번호', '법인구분', '고유번호', '법인명', '주식의종류', '이름', '관계', '기초주식수', '기초주식지분율', '기말주식수', '기말주식지분율', '비고', '보고서연도']\n",
    "df.to_csv(\"./df_shareholder.csv\", index = False)"
   ]
  },
  {
   "cell_type": "code",
   "execution_count": 6,
   "metadata": {},
   "outputs": [],
   "source": [
    "df_executive = pd.read_csv('./df_executive.csv', sep=\",\", encoding = 'UTF-8')\n",
    "df_shareholder = pd.read_csv('./df_shareholder.csv', sep=\",\", encoding = 'UTF-8')"
   ]
  },
  {
   "cell_type": "code",
   "execution_count": 7,
   "metadata": {},
   "outputs": [
    {
     "name": "stdout",
     "output_type": "stream",
     "text": [
      "<class 'pandas.core.frame.DataFrame'>\n",
      "RangeIndex: 2078 entries, 0 to 2077\n",
      "Data columns (total 16 columns):\n",
      " #   Column    Non-Null Count  Dtype \n",
      "---  ------    --------------  ----- \n",
      " 0   접수번호      2078 non-null   int64 \n",
      " 1   법인구분      2078 non-null   object\n",
      " 2   고유번호      2078 non-null   int64 \n",
      " 3   법인명       2078 non-null   object\n",
      " 4   이름        2078 non-null   object\n",
      " 5   성별        2078 non-null   object\n",
      " 6   생년월일      2078 non-null   object\n",
      " 7   직위        2078 non-null   object\n",
      " 8   등기임원여부    2078 non-null   object\n",
      " 9   상근여부      2078 non-null   object\n",
      " 10  담당업무      2078 non-null   object\n",
      " 11  주요경력      2078 non-null   object\n",
      " 12  최대주주와의관계  2078 non-null   object\n",
      " 13  재직기간      2078 non-null   object\n",
      " 14  임기만료일     2078 non-null   object\n",
      " 15  보고서연도     2078 non-null   int64 \n",
      "dtypes: int64(3), object(13)\n",
      "memory usage: 259.9+ KB\n"
     ]
    }
   ],
   "source": [
    "df_executive.info()"
   ]
  },
  {
   "cell_type": "code",
   "execution_count": 8,
   "metadata": {},
   "outputs": [],
   "source": [
    "df = pd.DataFrame()\n",
    "\n",
    "for k in [2020,2021,2022]:\n",
    "    temp = dart.report('대신증권','임원',k)\n",
    "    temp['year'] = k\n",
    "    df = pd.concat([df,temp])\n",
    "    \n",
    "df.columns = ['접수번호', '법인구분', '고유번호', '법인명', '이름', '성별', '생년월일', '직위', '등기임원여부', '상근여부', '담당업무', '주요경력', '최대주주와의관계', '재직기간', '임기만료일', '보고서연도']\n",
    "df.to_csv(\"./df_daishin_executive.csv\", index = False)\n",
    "     "
   ]
  },
  {
   "cell_type": "code",
   "execution_count": 9,
   "metadata": {},
   "outputs": [],
   "source": [
    "df = pd.DataFrame()\n",
    "\n",
    "for k in [2020,2021,2022]:\n",
    "    temp = dart.report('대신증권','최대주주',k)\n",
    "    temp['year'] = k\n",
    "    df = pd.concat([df,temp])\n",
    "    \n",
    "df.columns = ['접수번호', '법인구분', '고유번호', '법인명', '주식의종류', '이름', '관계', '기초주식수', '기초주식지분율', '기말주식수', '기말주식지분율', '비고', '보고서연도']\n",
    "df.to_csv(\"./df_daishin_shareholder.csv\", index = False)"
   ]
  },
  {
   "cell_type": "code",
   "execution_count": 10,
   "metadata": {},
   "outputs": [],
   "source": [
    "daishin_executive = pd.read_csv('./df_daishin_executive.csv', sep=\",\", encoding = 'UTF-8')\n",
    "daishin_shareholder = pd.read_csv('./df_daishin_shareholder.csv', sep=\",\", encoding = 'UTF-8')"
   ]
  },
  {
   "cell_type": "code",
   "execution_count": 11,
   "metadata": {},
   "outputs": [
    {
     "data": {
      "text/html": [
       "<div>\n",
       "<style scoped>\n",
       "    .dataframe tbody tr th:only-of-type {\n",
       "        vertical-align: middle;\n",
       "    }\n",
       "\n",
       "    .dataframe tbody tr th {\n",
       "        vertical-align: top;\n",
       "    }\n",
       "\n",
       "    .dataframe thead th {\n",
       "        text-align: right;\n",
       "    }\n",
       "</style>\n",
       "<table border=\"1\" class=\"dataframe\">\n",
       "  <thead>\n",
       "    <tr style=\"text-align: right;\">\n",
       "      <th></th>\n",
       "      <th>접수번호</th>\n",
       "      <th>법인구분</th>\n",
       "      <th>고유번호</th>\n",
       "      <th>법인명</th>\n",
       "      <th>이름</th>\n",
       "      <th>성별</th>\n",
       "      <th>생년월일</th>\n",
       "      <th>직위</th>\n",
       "      <th>등기임원여부</th>\n",
       "      <th>상근여부</th>\n",
       "      <th>담당업무</th>\n",
       "      <th>주요경력</th>\n",
       "      <th>최대주주와의관계</th>\n",
       "      <th>재직기간</th>\n",
       "      <th>임기만료일</th>\n",
       "      <th>보고서연도</th>\n",
       "    </tr>\n",
       "  </thead>\n",
       "  <tbody>\n",
       "    <tr>\n",
       "      <th>0</th>\n",
       "      <td>20210311001204</td>\n",
       "      <td>Y</td>\n",
       "      <td>110893</td>\n",
       "      <td>대신증권</td>\n",
       "      <td>이어룡</td>\n",
       "      <td>여</td>\n",
       "      <td>1953년 09월</td>\n",
       "      <td>회장</td>\n",
       "      <td>등기임원</td>\n",
       "      <td>상근</td>\n",
       "      <td>-</td>\n",
       "      <td>상명여자사범대</td>\n",
       "      <td>1항 1호 나</td>\n",
       "      <td>2004.09.24~\\n2020.12.31</td>\n",
       "      <td>2021년 03월 19일</td>\n",
       "      <td>2020</td>\n",
       "    </tr>\n",
       "    <tr>\n",
       "      <th>1</th>\n",
       "      <td>20210311001204</td>\n",
       "      <td>Y</td>\n",
       "      <td>110893</td>\n",
       "      <td>대신증권</td>\n",
       "      <td>신인식</td>\n",
       "      <td>남</td>\n",
       "      <td>1962년 01월</td>\n",
       "      <td>전무</td>\n",
       "      <td>미등기임원</td>\n",
       "      <td>상근</td>\n",
       "      <td>-</td>\n",
       "      <td>성균관대 회계학\\n대신증권 무역센터지점장\\n 대신증권 강남선릉센터 이사대우센터장\\n...</td>\n",
       "      <td>-</td>\n",
       "      <td>2013.04.01~\\n2020.12.31</td>\n",
       "      <td>2021년 03월 19일</td>\n",
       "      <td>2020</td>\n",
       "    </tr>\n",
       "    <tr>\n",
       "      <th>2</th>\n",
       "      <td>20210311001204</td>\n",
       "      <td>Y</td>\n",
       "      <td>110893</td>\n",
       "      <td>대신증권</td>\n",
       "      <td>길기모</td>\n",
       "      <td>남</td>\n",
       "      <td>1968년 12월</td>\n",
       "      <td>전무</td>\n",
       "      <td>미등기임원</td>\n",
       "      <td>상근</td>\n",
       "      <td>리스크관리부문장</td>\n",
       "      <td>서울대 경제학\\n메리츠종금증권 심사팀장\\n메리츠종금증권 리스크관리본부장</td>\n",
       "      <td>-</td>\n",
       "      <td>2019.04.01~\\n2020.12.31</td>\n",
       "      <td>2021년 03월 31일</td>\n",
       "      <td>2020</td>\n",
       "    </tr>\n",
       "    <tr>\n",
       "      <th>3</th>\n",
       "      <td>20210311001204</td>\n",
       "      <td>Y</td>\n",
       "      <td>110893</td>\n",
       "      <td>대신증권</td>\n",
       "      <td>조경순</td>\n",
       "      <td>남</td>\n",
       "      <td>1964년 01월</td>\n",
       "      <td>전무</td>\n",
       "      <td>미등기임원</td>\n",
       "      <td>상근</td>\n",
       "      <td>대외협력담당</td>\n",
       "      <td>연세대 경제학(석사)\\n대신증권 홍보실 이사대우실장\\n대신증권브랜드전략실 이사대우실...</td>\n",
       "      <td>-</td>\n",
       "      <td>2014.01.01~\\n2020.12.31</td>\n",
       "      <td>2021년 03월 19일</td>\n",
       "      <td>2020</td>\n",
       "    </tr>\n",
       "    <tr>\n",
       "      <th>4</th>\n",
       "      <td>20210311001204</td>\n",
       "      <td>Y</td>\n",
       "      <td>110893</td>\n",
       "      <td>대신증권</td>\n",
       "      <td>홍대한</td>\n",
       "      <td>남</td>\n",
       "      <td>1963년 05월</td>\n",
       "      <td>전무</td>\n",
       "      <td>미등기임원</td>\n",
       "      <td>상근</td>\n",
       "      <td>준법감시인\\n/준법지원부문장</td>\n",
       "      <td>서강대 경제학\\n대신증권영업기획부장\\n대신증권기획실장\\n대신증권인재전략부 이사대우부...</td>\n",
       "      <td>-</td>\n",
       "      <td>2014.01.01~\\n2020.12.31</td>\n",
       "      <td>2021년 12월 31일</td>\n",
       "      <td>2020</td>\n",
       "    </tr>\n",
       "  </tbody>\n",
       "</table>\n",
       "</div>"
      ],
      "text/plain": [
       "             접수번호 법인구분    고유번호   법인명   이름 성별       생년월일  직위 등기임원여부 상근여부  \\\n",
       "0  20210311001204    Y  110893  대신증권  이어룡  여  1953년 09월  회장   등기임원   상근   \n",
       "1  20210311001204    Y  110893  대신증권  신인식  남  1962년 01월  전무  미등기임원   상근   \n",
       "2  20210311001204    Y  110893  대신증권  길기모  남  1968년 12월  전무  미등기임원   상근   \n",
       "3  20210311001204    Y  110893  대신증권  조경순  남  1964년 01월  전무  미등기임원   상근   \n",
       "4  20210311001204    Y  110893  대신증권  홍대한  남  1963년 05월  전무  미등기임원   상근   \n",
       "\n",
       "              담당업무                                               주요경력  \\\n",
       "0                -                                            상명여자사범대   \n",
       "1                -  성균관대 회계학\\n대신증권 무역센터지점장\\n 대신증권 강남선릉센터 이사대우센터장\\n...   \n",
       "2         리스크관리부문장            서울대 경제학\\n메리츠종금증권 심사팀장\\n메리츠종금증권 리스크관리본부장   \n",
       "3           대외협력담당  연세대 경제학(석사)\\n대신증권 홍보실 이사대우실장\\n대신증권브랜드전략실 이사대우실...   \n",
       "4  준법감시인\\n/준법지원부문장  서강대 경제학\\n대신증권영업기획부장\\n대신증권기획실장\\n대신증권인재전략부 이사대우부...   \n",
       "\n",
       "  최대주주와의관계                     재직기간          임기만료일  보고서연도  \n",
       "0  1항 1호 나  2004.09.24~\\n2020.12.31  2021년 03월 19일   2020  \n",
       "1        -  2013.04.01~\\n2020.12.31  2021년 03월 19일   2020  \n",
       "2        -  2019.04.01~\\n2020.12.31  2021년 03월 31일   2020  \n",
       "3        -  2014.01.01~\\n2020.12.31  2021년 03월 19일   2020  \n",
       "4        -  2014.01.01~\\n2020.12.31  2021년 12월 31일   2020  "
      ]
     },
     "execution_count": 11,
     "metadata": {},
     "output_type": "execute_result"
    }
   ],
   "source": [
    "\n",
    "daishin_executive.head()"
   ]
  },
  {
   "cell_type": "code",
   "execution_count": 12,
   "metadata": {},
   "outputs": [
    {
     "data": {
      "text/plain": [
       "array([20210311001204, 20220516001812, 20230316001545], dtype=int64)"
      ]
     },
     "execution_count": 12,
     "metadata": {},
     "output_type": "execute_result"
    }
   ],
   "source": [
    "daishin_executive['접수번호'].unique()"
   ]
  },
  {
   "cell_type": "code",
   "execution_count": 13,
   "metadata": {},
   "outputs": [
    {
     "data": {
      "text/plain": [
       "array(['Y'], dtype=object)"
      ]
     },
     "execution_count": 13,
     "metadata": {},
     "output_type": "execute_result"
    }
   ],
   "source": [
    "daishin_executive['법인구분'].unique()"
   ]
  },
  {
   "cell_type": "code",
   "execution_count": 14,
   "metadata": {},
   "outputs": [
    {
     "data": {
      "text/plain": [
       "array([110893], dtype=int64)"
      ]
     },
     "execution_count": 14,
     "metadata": {},
     "output_type": "execute_result"
    }
   ],
   "source": [
    "daishin_executive['고유번호'].unique() #회사 고유번호 반환"
   ]
  },
  {
   "cell_type": "code",
   "execution_count": 15,
   "metadata": {},
   "outputs": [
    {
     "data": {
      "text/plain": [
       "array(['대신증권'], dtype=object)"
      ]
     },
     "execution_count": 15,
     "metadata": {},
     "output_type": "execute_result"
    }
   ],
   "source": [
    "daishin_executive['법인명'].unique()"
   ]
  },
  {
   "cell_type": "code",
   "execution_count": 16,
   "metadata": {},
   "outputs": [
    {
     "data": {
      "text/plain": [
       "array(['이어룡', '신인식', '길기모', '조경순', '홍대한', '이정화', '진승욱', '권택현', '박성준',\n",
       "       '정연규', '정재중', '양홍석', '김호중', '문병식', '정연우', '이순남', '임민수', '김수창',\n",
       "       '이재우', '홍종국', '최근영', '김상원', '오익근', '나유석', '신재범', '강준규', '강윤기',\n",
       "       '김성원', '정기동', '박현식', '이지원', '김병철', '이창세', '조홍희', '김범철', '송혁',\n",
       "       '유창범', '박정환', '이정훈', '김봉진', '이성영', '김창수', '원윤희', '송종원', '김경렬',\n",
       "       '김광혁', '박석원', '김성균', '최광철', '최대경', '김상혁', '정회민', '김성호'],\n",
       "      dtype=object)"
      ]
     },
     "execution_count": 16,
     "metadata": {},
     "output_type": "execute_result"
    }
   ],
   "source": [
    "daishin_executive['이름'].unique()"
   ]
  },
  {
   "cell_type": "code",
   "execution_count": 17,
   "metadata": {},
   "outputs": [],
   "source": [
    "ds_ex_pr = daishin_executive.drop(columns = ['접수번호', '법인구분', '고유번호', '법인명'])"
   ]
  },
  {
   "cell_type": "code",
   "execution_count": 18,
   "metadata": {},
   "outputs": [],
   "source": [
    "\n",
    "ds_ex_pr['나이'] = ds_ex_pr['생년월일'].apply(lambda x : 2023 - int(x[:4]) + 1) #나이피처 생성\n",
    "ds_ex_pr.drop(columns='생년월일', inplace = True) #생년월일 피처 제거"
   ]
  },
  {
   "cell_type": "code",
   "execution_count": 19,
   "metadata": {},
   "outputs": [],
   "source": [
    "ds_ex_pr['입사시기']=ds_ex_pr['재직기간'].str[:4].astype('int') #입사시기 피처 생성"
   ]
  },
  {
   "cell_type": "code",
   "execution_count": 20,
   "metadata": {},
   "outputs": [],
   "source": [
    "\n",
    "temp = ds_ex_pr['재직기간'].str.split('~\\n|~')\n",
    "firstY=temp.str.get(0)\n",
    "secondY=temp.str.get(1)\n",
    "\n",
    "firstY=firstY.apply(lambda x : x[:4])\n",
    "secondY=secondY.apply(lambda x : x[:4])\n",
    "\n",
    "ds_ex_pr['근속연수']=secondY.astype('int')-firstY.astype('int')"
   ]
  },
  {
   "cell_type": "code",
   "execution_count": 21,
   "metadata": {},
   "outputs": [],
   "source": [
    "ds_ex_pr.drop(columns=['보고서연도', '재직기간', '임기만료일'], inplace = True) #보고서연도, 재직기간, 임기만료일 피처 제거"
   ]
  },
  {
   "cell_type": "code",
   "execution_count": 22,
   "metadata": {},
   "outputs": [
    {
     "data": {
      "text/plain": [
       "array(['상명여자사범대', '성균관대 회계학', '서울대 경제학', '연세대 경제학(석사)', '서강대 경제학',\n",
       "       '부경대 무역학', '한양대 경영학', '경북대 경영학', '홍익대 경영학', '전남대 회계학',\n",
       "       '전남대 국제경영학(석사)', '서울대 경영학', '성균관대 무역학', '서강대 경제학(석사)', '연세대 경영학',\n",
       "       '동국대 경영학(석사)', '성균관대 법학', '연세대 인적자원개발학(석사)', '중앙대 산업정보학',\n",
       "       '조선대 회계학', '한국외국어대 경영학(석사)', '경희대 경제학', '한국과학기술원 MBA', '세종대 회계학',\n",
       "       '가천대 무역학', '성균관대 경영학', '연세대 경영학(석사)', '전남대 경영학', '충북대 전산학',\n",
       "       '서울대 경영학(석사)', '성균관대 행정학(박사)', '서울대 법학',\n",
       "       'University of Bath 사회과학대학원(석사)', '고려대 경영학', '전북대 회계학',\n",
       "       '서울대 행정학(석사)', '한국외대 경영학(석사)', '세종대학교 회계학', '가천대학교 무역학',\n",
       "       '성균관대학교 경영학', '서울대 기계공학', '동아대 경영학(박사)', '충북대학교 전산학', '중앙대 무역학',\n",
       "       'Florida International University 경영대학원(박사)',\n",
       "       'Ohio State University 정책대학원(박사)', '동국대 무역학', '인하대 경제통상학',\n",
       "       '중앙대 응용통계학', '중앙대 경영학', '서강대 사회학', '인하대 정치외교학', '원광대 통계학',\n",
       "       '건국대 법학(박사)'], dtype=object)"
      ]
     },
     "execution_count": 22,
     "metadata": {},
     "output_type": "execute_result"
    }
   ],
   "source": [
    "temp=ds_ex_pr['주요경력'].str.split('\\n')\n",
    "colleges=temp.str.get(0)\n",
    "colleges.unique()"
   ]
  },
  {
   "cell_type": "code",
   "execution_count": 23,
   "metadata": {},
   "outputs": [],
   "source": [
    "#영어 대학 공백제거\n",
    "colleges[colleges== 'University of Bath 사회과학대학원(석사)'] ='UniversityofBath 사회과학대학원(석사)'\n",
    "colleges[colleges== 'Florida International University 경영대학원(박사)']='FloridaInternationalUniversity 경영대학원(박사)'\n",
    "colleges[colleges== 'Ohio State University 정책대학원(박사)'] = 'OhioStateUniversity 정책대학원(박사)'\n",
    "\n",
    "#대학, 전공으로 나누기\n",
    "ttemp = colleges.str.split() \n",
    "\n",
    "#대학 피처 생성\n",
    "ds_ex_pr['대학교']=ttemp.str.get(0)"
   ]
  },
  {
   "cell_type": "code",
   "execution_count": 25,
   "metadata": {},
   "outputs": [],
   "source": [
    "#전공 피처 생성\n",
    "tttemp = ttemp.str.get(1)\n",
    "tttemp=tttemp.replace(r'[)]*', '', regex=True)\n",
    "ds_ex_pr['전공']=tttemp"
   ]
  },
  {
   "cell_type": "code",
   "execution_count": 26,
   "metadata": {},
   "outputs": [],
   "source": [
    "#학력 피처 생성\n",
    "def getDegree(x):\n",
    "    if x.find('박사')!=-1:\n",
    "      return 2\n",
    "    elif x.find('석사')!=-1:\n",
    "      return 1\n",
    "    else:\n",
    "      return 0\n",
    "\n",
    "#학사 0, 석사 1, 박사 2\n",
    "ds_ex_pr['학력'] = daishin_executive['주요경력'].apply(lambda x : getDegree(x))"
   ]
  },
  {
   "cell_type": "code",
   "execution_count": 27,
   "metadata": {},
   "outputs": [],
   "source": [
    "#주요경력 피처 제거\n",
    "ds_ex_pr.drop(columns='주요경력', inplace = True) "
   ]
  },
  {
   "cell_type": "code",
   "execution_count": 28,
   "metadata": {},
   "outputs": [
    {
     "data": {
      "text/html": [
       "<div>\n",
       "<style scoped>\n",
       "    .dataframe tbody tr th:only-of-type {\n",
       "        vertical-align: middle;\n",
       "    }\n",
       "\n",
       "    .dataframe tbody tr th {\n",
       "        vertical-align: top;\n",
       "    }\n",
       "\n",
       "    .dataframe thead th {\n",
       "        text-align: right;\n",
       "    }\n",
       "</style>\n",
       "<table border=\"1\" class=\"dataframe\">\n",
       "  <thead>\n",
       "    <tr style=\"text-align: right;\">\n",
       "      <th></th>\n",
       "      <th>이름</th>\n",
       "      <th>성별</th>\n",
       "      <th>직위</th>\n",
       "      <th>등기임원여부</th>\n",
       "      <th>상근여부</th>\n",
       "      <th>담당업무</th>\n",
       "      <th>최대주주와의관계</th>\n",
       "      <th>나이</th>\n",
       "      <th>입사시기</th>\n",
       "      <th>근속연수</th>\n",
       "      <th>대학교</th>\n",
       "      <th>전공</th>\n",
       "      <th>학력</th>\n",
       "    </tr>\n",
       "  </thead>\n",
       "  <tbody>\n",
       "    <tr>\n",
       "      <th>0</th>\n",
       "      <td>이어룡</td>\n",
       "      <td>여</td>\n",
       "      <td>회장</td>\n",
       "      <td>등기임원</td>\n",
       "      <td>상근</td>\n",
       "      <td>-</td>\n",
       "      <td>1항 1호 나</td>\n",
       "      <td>71</td>\n",
       "      <td>2004</td>\n",
       "      <td>16</td>\n",
       "      <td>상명여자사범대</td>\n",
       "      <td>NaN</td>\n",
       "      <td>0</td>\n",
       "    </tr>\n",
       "    <tr>\n",
       "      <th>1</th>\n",
       "      <td>신인식</td>\n",
       "      <td>남</td>\n",
       "      <td>전무</td>\n",
       "      <td>미등기임원</td>\n",
       "      <td>상근</td>\n",
       "      <td>-</td>\n",
       "      <td>-</td>\n",
       "      <td>62</td>\n",
       "      <td>2013</td>\n",
       "      <td>7</td>\n",
       "      <td>성균관대</td>\n",
       "      <td>회계학</td>\n",
       "      <td>0</td>\n",
       "    </tr>\n",
       "    <tr>\n",
       "      <th>2</th>\n",
       "      <td>길기모</td>\n",
       "      <td>남</td>\n",
       "      <td>전무</td>\n",
       "      <td>미등기임원</td>\n",
       "      <td>상근</td>\n",
       "      <td>리스크관리부문장</td>\n",
       "      <td>-</td>\n",
       "      <td>56</td>\n",
       "      <td>2019</td>\n",
       "      <td>1</td>\n",
       "      <td>서울대</td>\n",
       "      <td>경제학</td>\n",
       "      <td>0</td>\n",
       "    </tr>\n",
       "    <tr>\n",
       "      <th>3</th>\n",
       "      <td>조경순</td>\n",
       "      <td>남</td>\n",
       "      <td>전무</td>\n",
       "      <td>미등기임원</td>\n",
       "      <td>상근</td>\n",
       "      <td>대외협력담당</td>\n",
       "      <td>-</td>\n",
       "      <td>60</td>\n",
       "      <td>2014</td>\n",
       "      <td>6</td>\n",
       "      <td>연세대</td>\n",
       "      <td>경제학(석사</td>\n",
       "      <td>1</td>\n",
       "    </tr>\n",
       "    <tr>\n",
       "      <th>4</th>\n",
       "      <td>홍대한</td>\n",
       "      <td>남</td>\n",
       "      <td>전무</td>\n",
       "      <td>미등기임원</td>\n",
       "      <td>상근</td>\n",
       "      <td>준법감시인\\n/준법지원부문장</td>\n",
       "      <td>-</td>\n",
       "      <td>61</td>\n",
       "      <td>2014</td>\n",
       "      <td>6</td>\n",
       "      <td>서강대</td>\n",
       "      <td>경제학</td>\n",
       "      <td>0</td>\n",
       "    </tr>\n",
       "  </tbody>\n",
       "</table>\n",
       "</div>"
      ],
      "text/plain": [
       "    이름 성별  직위 등기임원여부 상근여부             담당업무 최대주주와의관계  나이  입사시기  근속연수      대학교  \\\n",
       "0  이어룡  여  회장   등기임원   상근                -  1항 1호 나  71  2004    16  상명여자사범대   \n",
       "1  신인식  남  전무  미등기임원   상근                -        -  62  2013     7     성균관대   \n",
       "2  길기모  남  전무  미등기임원   상근         리스크관리부문장        -  56  2019     1      서울대   \n",
       "3  조경순  남  전무  미등기임원   상근           대외협력담당        -  60  2014     6      연세대   \n",
       "4  홍대한  남  전무  미등기임원   상근  준법감시인\\n/준법지원부문장        -  61  2014     6      서강대   \n",
       "\n",
       "       전공  학력  \n",
       "0     NaN   0  \n",
       "1     회계학   0  \n",
       "2     경제학   0  \n",
       "3  경제학(석사   1  \n",
       "4     경제학   0  "
      ]
     },
     "execution_count": 28,
     "metadata": {},
     "output_type": "execute_result"
    }
   ],
   "source": [
    "ds_ex_pr.head()"
   ]
  },
  {
   "cell_type": "code",
   "execution_count": null,
   "metadata": {},
   "outputs": [],
   "source": []
  }
 ],
 "metadata": {
  "kernelspec": {
   "display_name": "cv",
   "language": "python",
   "name": "cv"
  },
  "language_info": {
   "codemirror_mode": {
    "name": "ipython",
    "version": 3
   },
   "file_extension": ".py",
   "mimetype": "text/x-python",
   "name": "python",
   "nbconvert_exporter": "python",
   "pygments_lexer": "ipython3",
   "version": "3.9.7"
  },
  "orig_nbformat": 4
 },
 "nbformat": 4,
 "nbformat_minor": 2
}
